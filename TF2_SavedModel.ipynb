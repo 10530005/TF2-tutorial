{
 "cells": [
  {
   "cell_type": "code",
   "execution_count": 1,
   "metadata": {},
   "outputs": [],
   "source": [
    "import tensorflow as tf\n",
    "from tensorflow.keras.layers import Dense, Flatten, Conv2D\n",
    "from tensorflow.keras import Model\n",
    "tf.keras.backend.set_floatx('float64')"
   ]
  },
  {
   "cell_type": "code",
   "execution_count": 2,
   "metadata": {},
   "outputs": [],
   "source": [
    "mnist = tf.keras.datasets.mnist\n",
    "(x_train, y_train), (x_test, y_test) = mnist.load_data()\n",
    "x_train, x_test = x_train / 255.0, x_test / 255.0"
   ]
  },
  {
   "cell_type": "code",
   "execution_count": 3,
   "metadata": {},
   "outputs": [
    {
     "data": {
      "text/plain": [
       "(60000, 28, 28)"
      ]
     },
     "execution_count": 3,
     "metadata": {},
     "output_type": "execute_result"
    }
   ],
   "source": [
    "x_train.shape"
   ]
  },
  {
   "cell_type": "code",
   "execution_count": 4,
   "metadata": {},
   "outputs": [],
   "source": [
    "# Add a channels dimension\n",
    "# 多增加第4個 dimension:\"channel\"\n",
    "x_train = x_train[..., tf.newaxis]\n",
    "x_test = x_test[..., tf.newaxis]"
   ]
  },
  {
   "cell_type": "code",
   "execution_count": 5,
   "metadata": {
    "scrolled": false
   },
   "outputs": [
    {
     "data": {
      "text/plain": [
       "(60000, 28, 28, 1)"
      ]
     },
     "execution_count": 5,
     "metadata": {},
     "output_type": "execute_result"
    }
   ],
   "source": [
    "x_train.shape"
   ]
  },
  {
   "cell_type": "code",
   "execution_count": 6,
   "metadata": {},
   "outputs": [],
   "source": [
    "#== tf.data API 來建立 input pipeline ==#\n",
    "#  * tf.data\n",
    "\n",
    "#1.\"from_tensor_slices\" 建立一個 Dataset Object\n",
    "#  在使用\"from_tensor_slices\"參數（x_train, y_train）是\n",
    "#  包含很多筆類型一樣的data,像這個例子有 60000筆data。\n",
    "#  不要跟\"from_tensor\"搞混了!\n",
    "\n",
    "#2.將training data做shuffle打亂 和 將batch size設定為 32\n",
    "train_dataset = tf.data.Dataset.from_tensor_slices((x_train, y_train))\n",
    "train_dataset = train_dataset.shuffle(10000).batch(32)\n",
    "\n",
    "test_dataset = tf.data.Dataset.from_tensor_slices((x_test, y_test))\n",
    "test_dataset = test_dataset.batch(32)"
   ]
  },
  {
   "cell_type": "code",
   "execution_count": 7,
   "metadata": {},
   "outputs": [],
   "source": [
    "#== 使用 Keras 自訂一個 Model ==#\n",
    "#  * tf.Keras.Model\n",
    "#  * tf.Keras.layers\n",
    "\n",
    "#1.建立一個 Class並繼承 tf.Keras.Model\n",
    "#2.__init__裡面我們可以自己設計每一層 Layer長什麼樣子，\n",
    "#  是哪種 Layer(Convolution, dense...)\n",
    "\n",
    "#3.call定義了這個 Model的 forward pass\n",
    "\n",
    "class MyModel(Model):\n",
    "  def __init__(self):\n",
    "    super(MyModel, self).__init__()    \n",
    "    # Define your layers here.\n",
    "    self.conv1 = Conv2D(32, 3, activation='relu')\n",
    "    self.flatten = Flatten()\n",
    "    self.d1 = Dense(128, activation='relu')\n",
    "    self.d2 = Dense(10, activation='softmax')\n",
    "\n",
    "  def call(self, x):\n",
    "    # Define your forward pass here,\n",
    "    # using layers you previously defined (in __init__).\n",
    "    x = self.conv1(x)\n",
    "    x = self.flatten(x)\n",
    "    x = self.d1(x)\n",
    "    return self.d2(x)\n",
    "\n",
    "model = MyModel()"
   ]
  },
  {
   "cell_type": "code",
   "execution_count": 8,
   "metadata": {},
   "outputs": [],
   "source": [
    "#== 選擇 loss, optimizer和 metrics ==#\n",
    "#  * tf.keras.losses\n",
    "#  * tf.keras.optimizers\n",
    "#  * tf.keras.metrics\n",
    "\n",
    "\n",
    "loss_object = tf.keras.losses.SparseCategoricalCrossentropy()\n",
    "optimizer = tf.keras.optimizers.Adam()\n",
    "\n",
    "train_loss = tf.keras.metrics.Mean(name='train_loss')\n",
    "train_accuracy = tf.keras.metrics.SparseCategoricalAccuracy(name='train_accuracy')\n",
    "\n",
    "test_loss = tf.keras.metrics.Mean(name='test_loss')\n",
    "test_accuracy = tf.keras.metrics.SparseCategoricalAccuracy(name='test_accuracy')"
   ]
  },
  {
   "cell_type": "code",
   "execution_count": 9,
   "metadata": {},
   "outputs": [],
   "source": [
    "#== train the model (定義)==#\n",
    "#  * tf.function\n",
    "#  * tf.GradientTape\n",
    "\n",
    "@tf.function\n",
    "def train_step(images, labels):\n",
    "    \n",
    "    #\n",
    "    with tf.GradientTape() as tape:\n",
    "        # forward pass to get predictions\n",
    "        predictions = model(images)\n",
    "        # compute loss with the ground truth and our predictions\n",
    "        loss = loss_object(labels, predictions)\n",
    "    # compute gradient \n",
    "    gradients = tape.gradient(loss, model.trainable_variables)\n",
    "    # back propagation\n",
    "    optimizer.apply_gradients(zip(gradients, model.trainable_variables))\n",
    "\n",
    "    train_loss(loss)\n",
    "    train_accuracy(labels, predictions)"
   ]
  },
  {
   "cell_type": "code",
   "execution_count": 10,
   "metadata": {},
   "outputs": [],
   "source": [
    "#== test the model (定義)==#\n",
    "#  * tf.function\n",
    "\n",
    "@tf.function\n",
    "def test_step(images, labels):\n",
    "    \n",
    "    # forward pass to get predictions\n",
    "    predictions = model(images)\n",
    "    # compute loss with the ground truth and our predictions\n",
    "    t_loss = loss_object(labels, predictions)\n",
    "\n",
    "    test_loss(t_loss)\n",
    "    test_accuracy(labels, predictions)"
   ]
  },
  {
   "cell_type": "code",
   "execution_count": 11,
   "metadata": {
    "scrolled": false
   },
   "outputs": [
    {
     "name": "stdout",
     "output_type": "stream",
     "text": [
      "Epoch 1, Loss: 0.1361412711072713, Accuracy: 95.92833333333334, Test Loss: 0.06618688415461473, Test Accuracy: 97.98\n",
      "\n",
      "Epoch 2, Loss: 0.04315773413044711, Accuracy: 98.61, Test Loss: 0.05517825220916372, Test Accuracy: 98.11999999999999\n",
      "\n",
      "Epoch 3, Loss: 0.023053838163016673, Accuracy: 99.23666666666666, Test Loss: 0.06364900499247364, Test Accuracy: 98.03\n",
      "\n",
      "Epoch 4, Loss: 0.014675820976573353, Accuracy: 99.49333333333334, Test Loss: 0.060037536181184646, Test Accuracy: 98.21\n",
      "\n",
      "Epoch 5, Loss: 0.009271579573984248, Accuracy: 99.685, Test Loss: 0.05755405626680754, Test Accuracy: 98.46000000000001\n",
      "\n"
     ]
    }
   ],
   "source": [
    "#== 真正開始 train model ==#\n",
    "\n",
    "# 定義EPOCH數(整個dataset 拿來train過一次稱一個epoch)\n",
    "EPOCH = 5\n",
    "for epoch in range(EPOCH):\n",
    "    for images, labels in train_dataset:\n",
    "        train_step(images, labels)\n",
    "\n",
    "    for test_images, test_labels in test_dataset:\n",
    "        test_step(test_images, test_labels)    \n",
    "    \n",
    "    template = 'Epoch {}, Loss: {}, Accuracy: {}, Test Loss: {}, Test Accuracy: {}\\n'\n",
    "    print(template.format(epoch+1,\n",
    "                          train_loss.result(),\n",
    "                          train_accuracy.result()*100,\n",
    "                          test_loss.result(),\n",
    "                          test_accuracy.result()*100))\n",
    "\n",
    "    # Reset the metrics for the next epoch\n",
    "    train_loss.reset_states()\n",
    "    train_accuracy.reset_states()\n",
    "    test_loss.reset_states()\n",
    "    test_accuracy.reset_states()\n"
   ]
  },
  {
   "cell_type": "code",
   "execution_count": 12,
   "metadata": {
    "scrolled": false
   },
   "outputs": [
    {
     "name": "stderr",
     "output_type": "stream",
     "text": [
      "WARNING: Logging before flag parsing goes to stderr.\n",
      "W0920 00:04:12.716366 140127712978752 deprecation.py:506] From /home/leonardo/anaconda3/lib/python3.7/site-packages/tensorflow_core/python/ops/resource_variable_ops.py:1781: calling BaseResourceVariable.__init__ (from tensorflow.python.ops.resource_variable_ops) with constraint is deprecated and will be removed in a future version.\n",
      "Instructions for updating:\n",
      "If using Keras pass *_constraint arguments to layers.\n"
     ]
    }
   ],
   "source": [
    "#== Saved Model ==#\n",
    "#  * tf.saved_model\n",
    "\n",
    "tf.saved_model.save(model, \"grandma\")"
   ]
  },
  {
   "cell_type": "code",
   "execution_count": 17,
   "metadata": {},
   "outputs": [],
   "source": [
    "def evaluate(model):\n",
    "    for images, labels in test_dataset:\n",
    "        predictions = model(images)\n",
    "        t_loss = loss_object(labels, predictions)\n",
    "\n",
    "        test_loss(t_loss)\n",
    "        test_accuracy(labels, predictions)\n",
    "    \n",
    "    print(\"test loss : {}\".format(test_loss.result()))        \n",
    "    print(\"test accuracy : {}\".format(test_accuracy.result()))\n",
    "    test_loss.reset_states()\n",
    "    test_accuracy.reset_states()"
   ]
  },
  {
   "cell_type": "code",
   "execution_count": 18,
   "metadata": {},
   "outputs": [
    {
     "name": "stdout",
     "output_type": "stream",
     "text": [
      "test loss : 2.2954691484713328\n",
      "test accuracy : 0.1248\n"
     ]
    }
   ],
   "source": [
    "#== Load Model ==#\n",
    "# create a new model to see the performance without training\n",
    "\n",
    "new_model = MyModel()\n",
    "evaluate(new_model)"
   ]
  },
  {
   "cell_type": "code",
   "execution_count": 19,
   "metadata": {},
   "outputs": [
    {
     "name": "stdout",
     "output_type": "stream",
     "text": [
      "test loss : 0.05755476520098324\n",
      "test accuracy : 0.9846\n"
     ]
    }
   ],
   "source": [
    "#== Load Model =#\n",
    "#  Load 之前存起來的 Model再看看他的 performance\n",
    "#  * tf.saved_model\n",
    "\n",
    "new_model = tf.saved_model.load(\"grandma\")\n",
    "evaluate(new_model)\n"
   ]
  },
  {
   "cell_type": "code",
   "execution_count": 20,
   "metadata": {},
   "outputs": [
    {
     "name": "stdout",
     "output_type": "stream",
     "text": [
      "test loss : 0.05755476520098324\n",
      "test accuracy : 0.9846\n"
     ]
    }
   ],
   "source": [
    "# 之前那個 Model\n",
    "# performance 與上面的一樣！\n",
    "evaluate(model)"
   ]
  }
 ],
 "metadata": {
  "kernelspec": {
   "display_name": "Python 3",
   "language": "python",
   "name": "python3"
  },
  "language_info": {
   "codemirror_mode": {
    "name": "ipython",
    "version": 3
   },
   "file_extension": ".py",
   "mimetype": "text/x-python",
   "name": "python",
   "nbconvert_exporter": "python",
   "pygments_lexer": "ipython3",
   "version": "3.7.1"
  }
 },
 "nbformat": 4,
 "nbformat_minor": 2
}
